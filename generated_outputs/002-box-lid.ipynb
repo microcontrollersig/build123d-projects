{
 "cells": [
  {
   "cell_type": "code",
   "execution_count": null,
   "id": "87c77b01",
   "metadata": {},
   "outputs": [],
   "source": [
    "from typing import Literal\n",
    "from build123d import *\n",
    "#from ocp_vscode import show_all, Camera"
   ]
  },
  {
   "cell_type": "code",
   "execution_count": null,
   "id": "b93b105c",
   "metadata": {},
   "outputs": [],
   "source": [
    "# Parameters\n",
    "card_width = 65.5 * MM\n",
    "card_length = 80.0 * MM\n",
    "height = 12 * MM\n",
    "wall = 3 * MM\n",
    "gap = 0.5 * MM\n",
    "pad_spacingX = 50.5 * MM\n",
    "pad_spacingY = 48 * MM\n",
    "pad_height = 4 * MM\n",
    "fontsz, fontht = 12.0, 0.2"
   ]
  },
  {
   "cell_type": "code",
   "execution_count": null,
   "id": "74e4052a",
   "metadata": {},
   "outputs": [],
   "source": [
    "# Radius and diameters\n",
    "pad_diameter = 7 * MM\n",
    "pad_hole_diam = 3.0 * MM"
   ]
  },
  {
   "cell_type": "markdown",
   "id": "8e86ee13",
   "metadata": {},
   "source": [
    "Computed parameters"
   ]
  },
  {
   "cell_type": "code",
   "execution_count": null,
   "id": "7ded0521",
   "metadata": {},
   "outputs": [],
   "source": [
    "# Main design\n",
    "with BuildPart() as box_builder:\n",
    "    with BuildSketch() as plan:\n",
    "        Rectangle(card_width + 2 * wall, card_length + 2 * wall)\n",
    "        fillet(plan.vertices(), radius=card_width / 15)\n",
    "    extrude(amount=wall)\n",
    "    with BuildSketch(box_builder.faces().sort_by(Axis.Z)[-1]) as holes: # box mounting holes\n",
    "        with GridLocations(\n",
    "            x_spacing=card_width - 2 -2 * wall , y_spacing=card_length - 2 - 2 * wall, x_count=4, y_count=4\n",
    "        ):\n",
    "            Circle(1.5)\n",
    "    extrude(amount= -wall, mode=Mode.SUBTRACT)        \n",
    "    with BuildSketch(box_builder.faces().sort_by(Axis.Z)[-1]) as walls:\n",
    "        add(plan.sketch)\n",
    "        offset(plan.sketch, amount=-wall, mode=Mode.SUBTRACT)\n",
    "    extrude(amount=height * 1.333)\n",
    "    with BuildSketch(box_builder.faces().sort_by(Axis.Z)[-1]) as inset_walls:\n",
    "        offset(plan.sketch, amount=-(wall + gap) / 2, mode=Mode.ADD)\n",
    "        offset(plan.sketch, amount=-wall, mode=Mode.SUBTRACT)\n",
    "    extrude(amount=height / 2)\n",
    "    with BuildSketch(box_builder.faces().sort_by(Axis.Y)[-1]): # add a hole for the USB lead\n",
    "        with Locations((-2, -10 - 0.2)): # (x,z())\n",
    "              RectangleRounded(13,13,1.5)\n",
    "              offset(amount=0 )\n",
    "    extrude(amount=10, both=True, mode=Mode.SUBTRACT)\n",
    "    with BuildSketch(box_builder.faces().sort_by(Axis.Y)[-1]): # add holes for ext wiring\n",
    "        with Locations((-21, -4)): # (x,z())\n",
    "              Circle(3)\n",
    "            #  offset(amount=wall)\n",
    "        with Locations((21, -4)): # (x,z())\n",
    "              Circle(3)            \n",
    "    extrude(amount=wall, both=True, mode=Mode.SUBTRACT)    \n",
    "#    with BuildSketch(box_builder.faces().sort_by(Axis.Z)[-1]):    \n",
    "    with BuildSketch(Plane.XY.offset(wall)) as sk2: # add board mounting pads\n",
    "        with GridLocations(\n",
    "            x_spacing=pad_spacingX, y_spacing=pad_spacingY, x_count=2, y_count=2\n",
    "        ):\n",
    "            Circle(radius=pad_diameter / 2, mode = Mode.ADD)\n",
    "            offset(amount=wall)\n",
    "            Circle(radius=pad_hole_diam / 2, mode = Mode.SUBTRACT)\n",
    "            offset(amount=0)            \n",
    "    extrude(amount=pad_height)"
   ]
  },
  {
   "cell_type": "code",
   "execution_count": null,
   "id": "4108d242",
   "metadata": {},
   "outputs": [],
   "source": [
    "with BuildPart() as boxLid:\n",
    "    lid_location = boxLid.location\n",
    "    lid_location.position = (0, 0, 0)\n",
    "    lid_location.orientation = (0, 0, 0)\n",
    "    with BuildSketch(Plane.XY.offset(35)) as plan:\n",
    "        Rectangle(card_width + 2 * wall, card_length + 2 * wall)\n",
    "        fillet(plan.vertices(), radius=card_width / 15)\n",
    "    extrude(amount=wall)\n",
    "    with BuildSketch(boxLid.faces().sort_by(Axis.Z)[-1]) as walls:\n",
    "        add(plan.sketch)\n",
    "        offset(plan.sketch, amount=-0.1 - wall / 2, mode=Mode.SUBTRACT)\n",
    "    extrude(amount=-wall - height /2)\n",
    "    with BuildSketch(boxLid.faces().sort_by(Axis.Y)[-1]): # add a hole for the USB lead\n",
    "        with Locations((-2, 3.8)): # (x,z())\n",
    "              RectangleRounded(13,7,1.5)\n",
    "              offset(amount=0 )\n",
    "    extrude(amount=10, both=True, mode=Mode.SUBTRACT)    \n",
    "    topf = boxLid.faces().sort_by(Axis.Z)[-1]\n",
    "    with BuildSketch(topf.rotate(Axis.Z,180)) as lidText:\n",
    "        with Locations((0,-5)):\n",
    "            Text(\"Tank Temp.\", font_size=fontsz, align=(Align.CENTER, Align.MAX))\n",
    "    extrude(amount=-fontht, mode=Mode.SUBTRACT)\n",
    "    with BuildSketch(topf.rotate(Axis.Z,180)) as lidText2:\n",
    "        Text(\"Tank Level\", font_size=fontsz, align=(Align.CENTER, Align.MIN))\n",
    "    extrude(amount=-fontht, mode=Mode.SUBTRACT)      "
   ]
  },
  {
   "cell_type": "code",
   "execution_count": null,
   "id": "d75b9383",
   "metadata": {},
   "outputs": [],
   "source": [
    "box_builder.label = \"Box\"\n",
    "boxLid.label = \"Lid\"\n",
    "boxLid.color = Color = \"Red\"\n",
    "box_assembly = Compound(label=\"assembly\", children=[box_builder.part,boxLid.part.moved(Location((0, 0, 0)))])\n",
    "box_assembly\n",
    "#show_all()\n",
    "#there are export_step and export_stl functions"
   ]
  }
 ],
 "metadata": {
  "jupytext": {
   "cell_metadata_filter": "-all",
   "main_language": "python",
   "notebook_metadata_filter": "-all"
  }
 },
 "nbformat": 4,
 "nbformat_minor": 5
}
