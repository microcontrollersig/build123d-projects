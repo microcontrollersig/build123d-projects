{
 "cells": [
  {
   "cell_type": "code",
   "execution_count": null,
   "id": "f7e56aa4",
   "metadata": {},
   "outputs": [],
   "source": [
    "from build123d import *\n",
    "#from ocp_vscode import show_all, Camera"
   ]
  },
  {
   "cell_type": "code",
   "execution_count": null,
   "id": "f7419419",
   "metadata": {},
   "outputs": [],
   "source": [
    "# Parameters\n",
    "length = 1260\n",
    "width = 775\n",
    "height = 25"
   ]
  },
  {
   "cell_type": "code",
   "execution_count": null,
   "id": "3efd44ab",
   "metadata": {},
   "outputs": [],
   "source": [
    "x_offset = 30\n",
    "y1_offset = 30\n",
    "y2_offset = 45"
   ]
  },
  {
   "cell_type": "code",
   "execution_count": null,
   "id": "5585ffc1",
   "metadata": {},
   "outputs": [],
   "source": [
    "spacing_small = 50\n",
    "spacing_large = 100"
   ]
  },
  {
   "cell_type": "code",
   "execution_count": null,
   "id": "6a17d406",
   "metadata": {},
   "outputs": [],
   "source": [
    "# Radius and diameters\n",
    "diameter = 6\n",
    "radius = diameter / 2"
   ]
  },
  {
   "cell_type": "code",
   "execution_count": null,
   "id": "2d76a65f",
   "metadata": {},
   "outputs": [],
   "source": [
    "# Computed parameters\n",
    "half_length = length / 2\n",
    "half_width = width / 2"
   ]
  },
  {
   "cell_type": "code",
   "execution_count": null,
   "id": "a3a644db",
   "metadata": {},
   "outputs": [],
   "source": [
    "# Main design\n",
    "with BuildPart() as part_builder:\n",
    "    Box(length, width, height, align=(Align.CENTER, Align.CENTER, Align.MIN))\n",
    "    with Locations((0, spacing_small)):\n",
    "        with GridLocations(x_spacing=spacing_large, y_spacing=spacing_large, x_count=13, y_count=4, align=(Align.CENTER, Align.MIN, Align.CENTER)):\n",
    "            Hole(radius)\n",
    "    with Locations((0, -half_width+y2_offset)):\n",
    "        with GridLocations(x_spacing=spacing_large, y_spacing=spacing_large, x_count=7, y_count=4, align=(Align.MAX, Align.MIN, Align.CENTER)):\n",
    "            Hole(radius)        \n",
    "    with Locations((spacing_small, -half_width+y2_offset)):\n",
    "        with GridLocations(x_spacing=spacing_small, y_spacing=spacing_small, x_count=12, y_count=7, align=(Align.MIN, Align.MIN, Align.CENTER)):\n",
    "            Hole(radius)"
   ]
  },
  {
   "cell_type": "code",
   "execution_count": null,
   "id": "234e7087",
   "metadata": {},
   "outputs": [],
   "source": [
    "#show_all(reset_camera=Camera.KEEP)\n",
    "part = part_builder.part\n",
    "part"
   ]
  },
  {
   "cell_type": "code",
   "execution_count": null,
   "id": "29eed442",
   "metadata": {},
   "outputs": [],
   "source": [
    "filename_stem = \"sacrificial_table\"\n",
    "export_step(part, f\"{filename_stem}.step\")\n",
    "export_stl(part, f\"{filename_stem}.stl\")"
   ]
  }
 ],
 "metadata": {
  "jupytext": {
   "cell_metadata_filter": "-all",
   "main_language": "python",
   "notebook_metadata_filter": "-all"
  }
 },
 "nbformat": 4,
 "nbformat_minor": 5
}
