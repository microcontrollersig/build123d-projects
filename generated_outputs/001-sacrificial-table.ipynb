{
 "cells": [
  {
   "cell_type": "code",
   "execution_count": null,
   "id": "fe4959e3",
   "metadata": {},
   "outputs": [],
   "source": [
    "from build123d import *\n",
    "#from ocp_vscode import show_all, Camera"
   ]
  },
  {
   "cell_type": "code",
   "execution_count": null,
   "id": "f8c5dc18",
   "metadata": {},
   "outputs": [],
   "source": [
    "# Parameters\n",
    "length = 1260\n",
    "width = 775\n",
    "height = 25"
   ]
  },
  {
   "cell_type": "code",
   "execution_count": null,
   "id": "aeed9226",
   "metadata": {},
   "outputs": [],
   "source": [
    "x_offset = 30\n",
    "y1_offset = 30\n",
    "y2_offset = 45"
   ]
  },
  {
   "cell_type": "code",
   "execution_count": null,
   "id": "33eb4c85",
   "metadata": {},
   "outputs": [],
   "source": [
    "spacing_small = 50\n",
    "spacing_large = 100"
   ]
  },
  {
   "cell_type": "code",
   "execution_count": null,
   "id": "ba753462",
   "metadata": {},
   "outputs": [],
   "source": [
    "# Radius and diameters\n",
    "diameter = 6\n",
    "radius = diameter / 2"
   ]
  },
  {
   "cell_type": "code",
   "execution_count": null,
   "id": "ada1e28c",
   "metadata": {},
   "outputs": [],
   "source": [
    "# Computed parameters\n",
    "half_length = length / 2\n",
    "half_width = width / 2"
   ]
  },
  {
   "cell_type": "code",
   "execution_count": null,
   "id": "8a293a3b",
   "metadata": {},
   "outputs": [],
   "source": [
    "# Main design\n",
    "with BuildPart() as part_builder:\n",
    "    Box(length, width, height, align=(Align.CENTER, Align.CENTER, Align.MIN))\n",
    "    with Locations((0, spacing_small)):\n",
    "        with GridLocations(x_spacing=spacing_large, y_spacing=spacing_large, x_count=13, y_count=4, align=(Align.CENTER, Align.MIN, Align.CENTER)):\n",
    "            Hole(radius)\n",
    "    with Locations((0, -half_width+y2_offset)):\n",
    "        with GridLocations(x_spacing=spacing_large, y_spacing=spacing_large, x_count=7, y_count=4, align=(Align.MAX, Align.MIN, Align.CENTER)):\n",
    "            Hole(radius)        \n",
    "    with Locations((spacing_small, -half_width+y2_offset)):\n",
    "        with GridLocations(x_spacing=spacing_small, y_spacing=spacing_small, x_count=12, y_count=7, align=(Align.MIN, Align.MIN, Align.CENTER)):\n",
    "            Hole(radius)"
   ]
  },
  {
   "cell_type": "code",
   "execution_count": null,
   "id": "6858e1dc",
   "metadata": {},
   "outputs": [],
   "source": [
    "#show_all(reset_camera=Camera.KEEP)\n",
    "part = part_builder.part\n",
    "part"
   ]
  },
  {
   "cell_type": "code",
   "execution_count": null,
   "id": "0d49846c",
   "metadata": {},
   "outputs": [],
   "source": [
    "filename_stem = \"sacrificial_table\"\n",
    "export_step(part, f\"{filename_stem}.step\")\n",
    "export_stl(part, f\"{filename_stem}.stl\")"
   ]
  }
 ],
 "metadata": {
  "jupytext": {
   "cell_metadata_filter": "-all",
   "main_language": "python",
   "notebook_metadata_filter": "-all"
  }
 },
 "nbformat": 4,
 "nbformat_minor": 5
}
